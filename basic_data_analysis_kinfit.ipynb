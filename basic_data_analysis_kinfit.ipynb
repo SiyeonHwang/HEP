{
 "cells": [
  {
   "cell_type": "code",
   "execution_count": null,
   "metadata": {},
   "outputs": [],
   "source": [
    "import uproot\n",
    "file = uproot.open(\"ZH_HCC_ZLL_NanoV9_2017_867C.root\")\n",
    "file.classnames()"
   ]
  },
  {
   "cell_type": "code",
   "execution_count": null,
   "metadata": {},
   "outputs": [],
   "source": [
    "tree = file[\"Events\"]\n",
    "tree.keys()"
   ]
  },
  {
   "cell_type": "code",
   "execution_count": null,
   "metadata": {},
   "outputs": [],
   "source": [
    "branches = tree.arrays()\n",
    "# print(len(branches))"
   ]
  },
  {
   "cell_type": "markdown",
   "metadata": {},
   "source": [
    "Masking Muons"
   ]
  },
  {
   "cell_type": "code",
   "execution_count": null,
   "metadata": {},
   "outputs": [],
   "source": [
    "# double_muon_mask = branches[\"nMuon\"] > 1\n",
    "# print(double_muon_mask)\n",
    "# print(branches[\"nMuon\"][double_muon_mask])\n",
    "\n",
    "# import numpy as np\n",
    "# np.sum(branches[\"nMuon\"][double_muon_mask])\n",
    "\n",
    "pt_mask = branches[\"Muon_pt\"] > 25\n",
    "eta_mask = abs(branches[\"Muon_eta\"]) < 2.4\n",
    "# print(pt_mask)\n",
    "# print(eta_mask)\n",
    "pt_eta_mask = pt_mask & eta_mask\n",
    "print(pt_eta_mask)\n",
    "\n",
    "# muon_mask = [sum(1 if value else 0 for value in boolean) for boolean in pt_eta_mask]\n",
    "# print(muon_mask)\n",
    "# muon_mask = [x > 1 for x in muon_mask]\n",
    "# print(muon_mask)\n",
    "muon_mask = [len(sublist) > 1 for sublist in branches[\"Muon_mass\"][pt_eta_mask]]\n",
    "print(muon_mask)"
   ]
  },
  {
   "cell_type": "markdown",
   "metadata": {},
   "source": [
    "Finding the 4-Vector of Muons"
   ]
  },
  {
   "cell_type": "code",
   "execution_count": null,
   "metadata": {},
   "outputs": [],
   "source": [
    "import numpy as np\n",
    "import matplotlib.pyplot as plt\n",
    "from pylorentz import Momentum4\n",
    "\n",
    "Muon1_mass = np.array([sublist[0] for sublist in branches[\"Muon_mass\"][pt_eta_mask][muon_mask]])\n",
    "Muon1_eta = np.array([sublist[0] for sublist in branches[\"Muon_eta\"][pt_eta_mask][muon_mask]])\n",
    "Muon1_phi = np.array([sublist[0] for sublist in branches[\"Muon_phi\"][pt_eta_mask][muon_mask]])\n",
    "Muon1_pt = np.array([sublist[0] for sublist in branches[\"Muon_pt\"][pt_eta_mask][muon_mask]])\n",
    "\n",
    "Muon2_mass = np.array([sublist[1] for sublist in branches[\"Muon_mass\"][pt_eta_mask][muon_mask]])\n",
    "Muon2_eta = np.array([sublist[1] for sublist in branches[\"Muon_eta\"][pt_eta_mask][muon_mask]])\n",
    "Muon2_phi = np.array([sublist[1] for sublist in branches[\"Muon_phi\"][pt_eta_mask][muon_mask]])\n",
    "Muon2_pt = np.array([sublist[1] for sublist in branches[\"Muon_pt\"][pt_eta_mask][muon_mask]])\n",
    "\n",
    "Muon1 = Momentum4.m_eta_phi_pt(Muon1_mass, Muon1_eta, Muon1_phi, Muon1_pt)\n",
    "Muon2 = Momentum4.m_eta_phi_pt(Muon2_mass, Muon2_eta, Muon2_phi, Muon2_pt)\n",
    "\n",
    "M = Muon1 + Muon2\n",
    "print(M.m)\n",
    "len(M.m)"
   ]
  },
  {
   "cell_type": "markdown",
   "metadata": {},
   "source": [
    "Invariant Mass of Z boson"
   ]
  },
  {
   "cell_type": "code",
   "execution_count": null,
   "metadata": {},
   "outputs": [],
   "source": [
    "plt.hist(M.m, label = \"Muon $p_{\\mathrm{T}}$ > 25, Muon $|\\eta| < 2.4$\", bins = 50, range = (0, 300))\n",
    "plt.xlabel(\"Z boson $M_{\\t{inv}}$\")\n",
    "plt.ylabel(\"Number of events\")\n",
    "plt.legend()\n",
    "plt.show()"
   ]
  },
  {
   "cell_type": "markdown",
   "metadata": {},
   "source": [
    "Transverse Momentum of Z boson"
   ]
  },
  {
   "cell_type": "code",
   "execution_count": null,
   "metadata": {},
   "outputs": [],
   "source": [
    "plt.hist(M.p_t, label = \"Muon $p_{\\mathrm{T}}$ > 25, Muon $|\\eta| < 2.4$\", bins = 50, range = (-50, 700))\n",
    "plt.xlabel(\"Z boson $p_{\\mathrm{T}}$ [Gev]\")\n",
    "plt.ylabel(\"Number of events\")\n",
    "plt.legend()"
   ]
  },
  {
   "cell_type": "markdown",
   "metadata": {},
   "source": [
    "pt, eta, phi of Jets"
   ]
  },
  {
   "cell_type": "code",
   "execution_count": null,
   "metadata": {},
   "outputs": [],
   "source": [
    "# pt = []\n",
    "# eta = []\n",
    "# phi = []\n",
    "\n",
    "# for i in range(0, len(branches)):\n",
    "#     # if i < 10:\n",
    "#     #     print(i)\n",
    "#     #     print(\"nMuon = \", branches[\"nMuon\"][i], len(branches[\"Muon_pt\"][i]))\n",
    "#     #     print(branches[\"Jet_pt\"][i])\n",
    "\n",
    "#     # for j in range(0, branches[\"nMuon\"][i]):\n",
    "#     #     if i < 10:\n",
    "#     #         print(branches[\"Muon_pt\"][i][j])\n",
    "\n",
    "#     for j in range(0, len(branches[\"Jet_pt\"][i])):\n",
    "#         # if i < 10:\n",
    "#         pt.append(branches[\"Jet_pt\"][i][j])\n",
    "\n",
    "#     for k in range(0, len(branches[\"Jet_eta\"][i])):\n",
    "#         eta.append(branches[\"Jet_eta\"][i][k])\n",
    "\n",
    "#     for l in range(0, len(branches[\"Jet_phi\"][i])):\n",
    "#         phi.append(branches[\"Jet_phi\"][i][l])\n",
    "\n",
    "# plt.hist(pt, bins = 50, range = (0, 200))\n",
    "# plt.xlabel(\"Jet $p_{\\mathrm{T}}$ [Gev]\")\n",
    "# plt.ylabel(\"Number of jets\")\n",
    "# plt.show()\n",
    "\n",
    "# plt.hist(eta, bins = 100, range = (-5, 5))\n",
    "# plt.xlabel(\"Jet $\\eta$ [rad]\")\n",
    "# plt.ylabel(\"Number of jets\")\n",
    "# plt.show()\n",
    "\n",
    "# plt.hist(phi, bins = 100, range = (-5, 5))\n",
    "# plt.xlabel(\"Jet $\\phi$ [rad]\")\n",
    "# plt.ylabel(\"Number of jets\")\n",
    "# plt.show()"
   ]
  },
  {
   "cell_type": "markdown",
   "metadata": {},
   "source": [
    "Masking Jets"
   ]
  },
  {
   "cell_type": "code",
   "execution_count": null,
   "metadata": {},
   "outputs": [],
   "source": [
    "# double_jet_mask = branches[\"nJet\"] > 1\n",
    "# print(double_jet_mask)\n",
    "# print(branches[\"nJet\"][double_jet_mask])\n",
    "\n",
    "pt_mask = branches[\"Jet_pt\"] > 25\n",
    "eta_mask = abs(branches[\"Jet_eta\"]) < 2.4\n",
    "jet_hadronflavour_mask = abs(branches[\"Jet_hadronFlavour\"]) == 4\n",
    "pt_eta_mask = pt_mask & eta_mask & jet_hadronflavour_mask\n",
    "print(pt_eta_mask)\n",
    "\n",
    "# jet_mask = [sum(1 if value else 0 for value in boolean) for boolean in pt_eta_mask]\n",
    "# print(jet_mask)\n",
    "# jet_mask = [x > 1 for x in jet_mask]\n",
    "jet_mask = [len(sublist) > 1 for sublist in branches[\"Jet_mass\"][pt_eta_mask]]\n",
    "print(jet_mask)"
   ]
  },
  {
   "cell_type": "code",
   "execution_count": null,
   "metadata": {},
   "outputs": [],
   "source": [
    "combined_mask = np.logical_and(jet_mask, muon_mask)\n",
    "\n",
    "momentum = [\"Jet_mass\", \"Jet_eta\", \"Jet_phi\", \"Jet_pt\"]\n",
    "\n",
    "for i in momentum:\n",
    "    for j in range(0, 2):\n",
    "        print(f\"{i}{j + 1} = \", [sublist[j] for sublist in branches[i][pt_eta_mask][combined_mask]])"
   ]
  },
  {
   "cell_type": "markdown",
   "metadata": {},
   "source": [
    "Finding the 4-Vector of Jets"
   ]
  },
  {
   "cell_type": "code",
   "execution_count": null,
   "metadata": {},
   "outputs": [],
   "source": [
    "Jet1_mass = np.array([sublist[0] for sublist in branches[\"Jet_mass\"][pt_eta_mask][combined_mask]])\n",
    "Jet1_eta = np.array([sublist[0] for sublist in branches[\"Jet_eta\"][pt_eta_mask][combined_mask]])\n",
    "Jet1_phi = np.array([sublist[0] for sublist in branches[\"Jet_phi\"][pt_eta_mask][combined_mask]])\n",
    "Jet1_pt = np.array([sublist[0] for sublist in branches[\"Jet_pt\"][pt_eta_mask][combined_mask]])\n",
    "\n",
    "Jet2_mass = np.array([sublist[1] for sublist in branches[\"Jet_mass\"][pt_eta_mask][combined_mask]])\n",
    "Jet2_eta = np.array([sublist[1] for sublist in branches[\"Jet_eta\"][pt_eta_mask][combined_mask]])\n",
    "Jet2_phi = np.array([sublist[1] for sublist in branches[\"Jet_phi\"][pt_eta_mask][combined_mask]])\n",
    "Jet2_pt = np.array([sublist[1] for sublist in branches[\"Jet_pt\"][pt_eta_mask][combined_mask]])\n",
    "\n",
    "Jet1 = Momentum4.m_eta_phi_pt(Jet1_mass, Jet1_eta, Jet1_phi, Jet1_pt)\n",
    "Jet2 = Momentum4.m_eta_phi_pt(Jet2_mass, Jet2_eta, Jet2_phi, Jet2_pt)\n",
    "\n",
    "M = Jet1 + Jet2\n",
    "print(M.m)\n",
    "len(M.m)"
   ]
  },
  {
   "cell_type": "markdown",
   "metadata": {},
   "source": [
    "Invariant Mass of H boson"
   ]
  },
  {
   "cell_type": "code",
   "execution_count": null,
   "metadata": {},
   "outputs": [],
   "source": [
    "plt.hist(M.m, label = \"Jet $p_{\\mathrm{T}}$ > 25, Jet $|\\eta| < 2.4$\", bins = 50, range = (0, 700))\n",
    "plt.xlabel(\"H boson $M_{\\t{inv}}$\")\n",
    "plt.ylabel(\"Number of events\")\n",
    "plt.legend()\n",
    "plt.show()"
   ]
  },
  {
   "cell_type": "markdown",
   "metadata": {},
   "source": [
    "Transverse Momentum of H boson"
   ]
  },
  {
   "cell_type": "code",
   "execution_count": null,
   "metadata": {},
   "outputs": [],
   "source": [
    "plt.hist(M.p_t, label = \"Jet $p_{\\mathrm{T}}$ > 25, Jet $|\\eta| < 2.4$\", bins = 50, range = (0, 500))\n",
    "plt.xlabel(\"H boson $p_{\\mathrm{T}}$ [Gev]\")\n",
    "plt.ylabel(\"Number of events\")\n",
    "plt.legend()"
   ]
  },
  {
   "cell_type": "code",
   "execution_count": null,
   "metadata": {},
   "outputs": [],
   "source": [
    "pt_mask = branches[\"Muon_pt\"] > 25\n",
    "eta_mask = abs(branches[\"Muon_eta\"]) < 2.4\n",
    "# print(pt_mask)\n",
    "# print(eta_mask)\n",
    "pt_eta_mask = pt_mask & eta_mask\n",
    "print(pt_eta_mask)"
   ]
  },
  {
   "cell_type": "code",
   "execution_count": null,
   "metadata": {},
   "outputs": [],
   "source": [
    "import numpy as np\n",
    "import matplotlib.pyplot as plt\n",
    "from pylorentz import Momentum4\n",
    "\n",
    "Muon1_mass = np.array([sublist[0] for sublist in branches[\"Muon_mass\"][pt_eta_mask][combined_mask]])\n",
    "Muon1_eta = np.array([sublist[0] for sublist in branches[\"Muon_eta\"][pt_eta_mask][combined_mask]])\n",
    "Muon1_phi = np.array([sublist[0] for sublist in branches[\"Muon_phi\"][pt_eta_mask][combined_mask]])\n",
    "Muon1_pt = np.array([sublist[0] for sublist in branches[\"Muon_pt\"][pt_eta_mask][combined_mask]])\n",
    "\n",
    "Muon2_mass = np.array([sublist[1] for sublist in branches[\"Muon_mass\"][pt_eta_mask][combined_mask]])\n",
    "Muon2_eta = np.array([sublist[1] for sublist in branches[\"Muon_eta\"][pt_eta_mask][combined_mask]])\n",
    "Muon2_phi = np.array([sublist[1] for sublist in branches[\"Muon_phi\"][pt_eta_mask][combined_mask]])\n",
    "Muon2_pt = np.array([sublist[1] for sublist in branches[\"Muon_pt\"][pt_eta_mask][combined_mask]])\n",
    "\n",
    "Muon1 = Momentum4.m_eta_phi_pt(Muon1_mass, Muon1_eta, Muon1_phi, Muon1_pt)\n",
    "Muon2 = Momentum4.m_eta_phi_pt(Muon2_mass, Muon2_eta, Muon2_phi, Muon2_pt)\n",
    "\n",
    "M = Muon1 + Muon2\n",
    "print(M.m)\n",
    "len(M.m)"
   ]
  },
  {
   "cell_type": "markdown",
   "metadata": {},
   "source": [
    "Kinematic Fit"
   ]
  },
  {
   "cell_type": "markdown",
   "metadata": {},
   "source": [
    "Trial 1"
   ]
  },
  {
   "cell_type": "code",
   "execution_count": null,
   "metadata": {},
   "outputs": [],
   "source": [
    "# generic imports\n",
    "import sys\n",
    "import argparse\n",
    "import numpy as np\n",
    "from tqdm.auto import tqdm\n",
    "from array import array\n",
    "\n",
    "# ROOT imports\n",
    "import ROOT\n",
    "\n",
    "# torch imports\n",
    "import torch\n",
    "\n",
    "# framework imports\n",
    "from kinematic_fitter import KinematicFitter\n",
    "\n",
    "parameters = torch.tensor([Muon1_pt[0], Muon2_pt[0], \n",
    "                           Jet1_pt[0], Jet2_pt[0], \n",
    "                           Muon1_phi[0], Muon2_phi[0],\n",
    "                           Jet1_phi[0], Jet2_phi[0],\n",
    "                           Muon1_eta[0], Muon2_eta[0]], dtype=torch.float64)\n",
    "\n",
    "def constraint_equations(params: torch.Tensor) -> torch.Tensor:\n",
    "    # Constant parameters\n",
    "    mass_z = torch.tensor(91.2).double()\n",
    "\n",
    "    px1 = params[0]*torch.cos(params[4])\n",
    "    px2 = params[1]*torch.cos(params[5])\n",
    "\n",
    "    py1 = params[0]*torch.sin(params[4])\n",
    "    py2 = params[1]*torch.sin(params[5])\n",
    "\n",
    "    pz1 = params[0]*torch.sinh(params[8])\n",
    "    pz2 = params[1]*torch.sinh(params[9])\n",
    "                    \n",
    "    # Calculate energy for muon 1\n",
    "    E1 = torch.sqrt(px1**2 + py1**2 + pz1**2 + 0.106**2)\n",
    "    # Calculate energy for muon 2\n",
    "    E2 = torch.sqrt(px2**2 + py2**2 + pz2**2 + 0.106**2)\n",
    "    # Calculate invariant mass\n",
    "    invariant_mass_squared = (E1 + E2)**2 - (px1 + px2)**2 - (py1 + py2)**2 - (pz1 + pz2)**2\n",
    "    invariant_mass = torch.sqrt(invariant_mass_squared)\n",
    "\n",
    "    # Calculate constraint equations\n",
    "    constraint1 = params[0]*torch.cos(params[4]) + params[1]*torch.cos(params[5]) + params[2]*torch.cos(params[6]) + params[3]*torch.cos(params[7])\n",
    "    constraint2 = params[0]*torch.sin(params[4]) + params[1]*torch.sin(params[5]) + params[2]*torch.sin(params[6]) + params[3]*torch.sin(params[7])\n",
    "    constraint3 = invariant_mass - mass_z\n",
    "\n",
    "    # Combine constraint equations into a single tensor\n",
    "    constraints = torch.stack([constraint1, constraint2, constraint3])\n",
    "    # print(constraints)\n",
    "    return constraints\n",
    "\n",
    "# Define the smearing values\n",
    "smear_values = [0.1, 0.1, 0.1, 0.1, 0.1, 0.1, 0.1, 0.1, 0.1, 0.1]\n",
    "\n",
    "# The covariance matrix initialization\n",
    "n_params = 10\n",
    "covariance_matrix = torch.zeros(n_params, n_params)\n",
    "for i in range(n_params-1):\n",
    "    covariance_matrix[i, i] = smear_values[i]**2\n",
    "\n",
    "# Kinematic Fitter Initialization\n",
    "fitter = KinematicFitter(n_constraints=3, n_parameters=10)\n",
    "fitter.set_covariance_matrix(cov_matrix=covariance_matrix)\n",
    "ok = fitter.fit(measured_params=parameters, constraints=lambda parameters: constraint_equations(parameters))"
   ]
  },
  {
   "cell_type": "markdown",
   "metadata": {},
   "source": [
    "Trial 2"
   ]
  },
  {
   "cell_type": "code",
   "execution_count": null,
   "metadata": {},
   "outputs": [],
   "source": [
    "# generic imports\n",
    "import sys\n",
    "import argparse\n",
    "import numpy as np\n",
    "from tqdm.auto import tqdm\n",
    "from array import array\n",
    "\n",
    "# ROOT imports\n",
    "import ROOT\n",
    "\n",
    "# torch imports\n",
    "import torch\n",
    "\n",
    "# framework imports\n",
    "from kinematic_fitter import KinematicFitter\n",
    "\n",
    "parameters = torch.tensor([Muon1_pt[0], Muon2_pt[0], \n",
    "                           Jet1_pt[0], Jet2_pt[0], \n",
    "                           Muon1_phi[0], Muon2_phi[0],\n",
    "                           Jet1_phi[0], Jet2_phi[0],\n",
    "                           Muon1_eta[0], Muon2_eta[0]], dtype=torch.float64)\n",
    "\n",
    "# Calculate invariant mass\n",
    "def invariant_mass(params: torch.Tensor) -> torch.Tensor:\n",
    "\n",
    "    px1 = params[0]*torch.cos(params[4])\n",
    "    px2 = params[1]*torch.cos(params[5])\n",
    "\n",
    "    py1 = params[0]*torch.sin(params[4])\n",
    "    py2 = params[1]*torch.sin(params[5])\n",
    "\n",
    "    pz1 = params[0]*torch.sinh(params[8])\n",
    "    pz2 = params[1]*torch.sinh(params[9])\n",
    "                    \n",
    "    # Calculate energy for muon 1\n",
    "    E1 = torch.sqrt(px1**2 + py1**2 + pz1**2 + 0.106**2)\n",
    "    # Calculate energy for muon 2\n",
    "    E2 = torch.sqrt(px2**2 + py2**2 + pz2**2 + 0.106**2)\n",
    "    # Calculate invariant mass\n",
    "    invariant_mass_squared = (E1 + E2)**2 - (px1 + px2)**2 - (py1 + py2)**2 - (pz1 + pz2)**2\n",
    "    invariant_mass = torch.sqrt(invariant_mass_squared)   \n",
    "   \n",
    "    return invariant_mass\n",
    "\n",
    "def constraint_equations(params: torch.Tensor) -> torch.Tensor:\n",
    "    # Constant parameters\n",
    "    mass_z = torch.tensor(91.2).double()\n",
    "\n",
    "    # Calculate constraint equations\n",
    "    constraint1 = params[0]*torch.cos(params[4]) + params[1]*torch.cos(params[5]) + params[2]*torch.cos(params[6]) + params[3]*torch.cos(params[7])\n",
    "    constraint2 = params[0]*torch.sin(params[4]) + params[1]*torch.sin(params[5]) + params[2]*torch.sin(params[6]) + params[3]*torch.sin(params[7])\n",
    "    constraint3 = invariant_mass(params) - mass_z\n",
    "\n",
    "    # Combine constraint equations into a single tensor\n",
    "    constraints = torch.stack([constraint1, constraint2, constraint3])\n",
    "    # print(constraints)\n",
    "    return constraints\n",
    "\n",
    "# Define the smearing values\n",
    "smear_values = [0.1, 0.1, 0.1, 0.1, 0.1, 0.1, 0.1, 0.1, 0.1, 0.1]\n",
    "\n",
    "# The covariance matrix initialization\n",
    "n_params = 10\n",
    "covariance_matrix = torch.zeros(n_params, n_params)\n",
    "for i in range(n_params-1):\n",
    "    covariance_matrix[i, i] = smear_values[i]**2\n",
    "\n",
    "# Kinematic Fitter Initialization\n",
    "fitter = KinematicFitter(n_constraints=3, n_parameters=10)\n",
    "fitter.set_covariance_matrix(cov_matrix=covariance_matrix)\n",
    "ok = fitter.fit(measured_params=parameters, constraints=lambda parameters: constraint_equations(parameters))"
   ]
  },
  {
   "cell_type": "markdown",
   "metadata": {},
   "source": [
    "Finding Invariant Mass of Jets with Fitted Parameters"
   ]
  },
  {
   "cell_type": "code",
   "execution_count": null,
   "metadata": {},
   "outputs": [],
   "source": [
    "# generic imports\n",
    "import sys\n",
    "import argparse\n",
    "import numpy as np\n",
    "from tqdm.auto import tqdm\n",
    "from array import array\n",
    "\n",
    "# ROOT imports\n",
    "import ROOT\n",
    "\n",
    "# torch imports\n",
    "import torch\n",
    "\n",
    "# framework imports\n",
    "from kinematic_fitter import KinematicFitter\n",
    "\n",
    "zero1 = []\n",
    "zero2 = []\n",
    "zero3 = []\n",
    "def constraint_equations(params: torch.Tensor) -> torch.Tensor:\n",
    "    # Constant parameters\n",
    "    mass_z = torch.tensor(91.2).double()\n",
    "\n",
    "    px1 = params[0]*torch.cos(params[4])\n",
    "    px2 = params[1]*torch.cos(params[5])\n",
    "\n",
    "    py1 = params[0]*torch.sin(params[4])\n",
    "    py2 = params[1]*torch.sin(params[5])\n",
    "\n",
    "    pz1 = params[0]*torch.sinh(params[8])\n",
    "    pz2 = params[1]*torch.sinh(params[9])\n",
    "                    \n",
    "    # Calculate energy for muon 1\n",
    "    E1 = torch.sqrt(px1**2 + py1**2 + pz1**2 + 0.106**2)\n",
    "    # Calculate energy for muon 2\n",
    "    E2 = torch.sqrt(px2**2 + py2**2 + pz2**2 + 0.106**2)\n",
    "    # Calculate invariant mass\n",
    "    invariant_mass_squared = (E1 + E2)**2 - (px1 + px2)**2 - (py1 + py2)**2 - (pz1 + pz2)**2\n",
    "    invariant_mass = torch.sqrt(invariant_mass_squared)\n",
    "\n",
    "    # Calculate constraint equations\n",
    "    constraint1 = params[0]*torch.cos(params[4]) + params[1]*torch.cos(params[5]) + params[2]*torch.cos(params[6]) + params[3]*torch.cos(params[7])\n",
    "    constraint2 = params[0]*torch.sin(params[4]) + params[1]*torch.sin(params[5]) + params[2]*torch.sin(params[6]) + params[3]*torch.sin(params[7])\n",
    "    constraint3 = invariant_mass - mass_z\n",
    "\n",
    "    zero1.append(torch.tensor(constraint1))\n",
    "    zero2.append(torch.tensor(constraint2))\n",
    "    zero3.append(torch.tensor(constraint3))\n",
    "    \n",
    "    # Combine constraint equations into a single tensor\n",
    "    constraints = torch.stack([constraint1, constraint2, constraint3])\n",
    "    # print(constraints)\n",
    "    return constraints\n",
    "\n",
    "m_cc = []\n",
    "\n",
    "# Maximum number of iterations for fitting\n",
    "max_iterations = 10\n",
    "\n",
    "for i in range(len((Jet1 + Jet2).m)):\n",
    "    parameters = torch.tensor([Muon1_pt[i], Muon2_pt[i], \n",
    "                               Jet1_pt[i], Jet2_pt[i], \n",
    "                               Muon1_phi[i], Muon2_phi[i],\n",
    "                               Jet1_phi[i], Jet2_phi[i],\n",
    "                               Muon1_eta[i], Muon2_eta[i]], dtype=torch.float64)\n",
    "\n",
    "    # Define the smearing values\n",
    "    smear_values = [0.05*Muon1_pt[i], 0.05*Muon2_pt[i], 0.15*Jet1_pt[i], 0.15*Jet2_pt[i], 0.05, 0.05, 0.05, 0.05, 0.05, 0.05]\n",
    "\n",
    "    # The covariance matrix initialization\n",
    "    n_params = 10\n",
    "    covariance_matrix = torch.zeros(n_params, n_params)\n",
    "    for j in range(n_params):\n",
    "        covariance_matrix[j, j] = smear_values[j]**2\n",
    "    \n",
    "    # Kinematic Fitter Initialization\n",
    "    fitter = KinematicFitter(n_constraints=3, n_parameters=10, n_iterations=max_iterations)\n",
    "    fitter.set_covariance_matrix(cov_matrix=covariance_matrix)\n",
    "    ok = fitter.fit(measured_params=parameters, constraints=lambda parameters: constraint_equations(parameters))\n",
    "    \n",
    "    fitted_params = torch.tensor(fitter.get_fitted_measured_params(), dtype=torch.float64)\n",
    "    # print(fitted_params[3])\n",
    "    fitted_Jet1 = Momentum4.m_eta_phi_pt(Jet1_mass[i], Jet1_eta[i], fitted_params[6], fitted_params[2])\n",
    "    fitted_Jet2 = Momentum4.m_eta_phi_pt(Jet2_mass[i], Jet2_eta[i], fitted_params[7], fitted_params[3])\n",
    "    \n",
    "    M = fitted_Jet1 + fitted_Jet2\n",
    "    m_cc.append(M.m)"
   ]
  },
  {
   "cell_type": "code",
   "execution_count": 60,
   "metadata": {},
   "outputs": [
    {
     "data": {
      "image/png": "[encoded data removed]",
      "text/plain": [
       "<Figure size 640x480 with 1 Axes>"
      ]
     },
     "metadata": {},
     "output_type": "display_data"
    }
   ],
   "source": [
    "plt.hist([zero1, zero2, zero3], label = [\"constraint1\", \"constraint2\", \"constraint3\"], bins = 20, range = (-5, 5))\n",
    "plt.xlabel(\"constraints\")\n",
    "plt.ylabel(\"Number of events\")\n",
    "plt.legend()\n",
    "plt.show()"
   ]
  },
  {
   "cell_type": "code",
   "execution_count": 61,
   "metadata": {},
   "outputs": [
    {
     "data": {
      "image/png": "[encoded data removed]",
      "text/plain": [
       "<Figure size 640x480 with 1 Axes>"
      ]
     },
     "metadata": {},
     "output_type": "display_data"
    }
   ],
   "source": [
    "plt.hist([m_cc, (Jet1 + Jet2).m], label = [\"fitted\", \"-\"], bins = 50, range = (0, 700))\n",
    "plt.xlabel(\"H boson $M_{\\t{inv}}$\")\n",
    "plt.ylabel(\"Number of events\")\n",
    "plt.legend()\n",
    "plt.show()"
   ]
  }
 ],
 "metadata": {
  "kernelspec": {
   "display_name": "Python 3",
   "language": "python",
   "name": "python3"
  },
  "language_info": {
   "codemirror_mode": {
    "name": "ipython",
    "version": 3
   },
   "file_extension": ".py",
   "mimetype": "text/x-python",
   "name": "python",
   "nbconvert_exporter": "python",
   "pygments_lexer": "ipython3",
   "version": "3.10.14"
  }
 },
 "nbformat": 4,
 "nbformat_minor": 2
}
