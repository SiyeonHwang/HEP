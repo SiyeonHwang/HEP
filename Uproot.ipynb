{
 "cells": [
  {
   "cell_type": "markdown",
   "metadata": {},
   "source": [
    "Opening a file"
   ]
  },
  {
   "cell_type": "code",
   "execution_count": 3,
   "metadata": {},
   "outputs": [
    {
     "name": "stdout",
     "output_type": "stream",
     "text": [
      "<ReadOnlyDirectory '/' at 0x023384832c30>\n"
     ]
    }
   ],
   "source": [
    "import uproot\n",
    "file = uproot.open(\"uproot-tutorial-file.root\")\n",
    "print(file)"
   ]
  },
  {
   "cell_type": "markdown",
   "metadata": {},
   "source": [
    "File contents"
   ]
  },
  {
   "cell_type": "code",
   "execution_count": 4,
   "metadata": {},
   "outputs": [
    {
     "data": {
      "text/plain": [
       "['Events;1']"
      ]
     },
     "execution_count": 4,
     "metadata": {},
     "output_type": "execute_result"
    }
   ],
   "source": [
    "file.keys()"
   ]
  },
  {
   "cell_type": "markdown",
   "metadata": {},
   "source": [
    "Accessing contents"
   ]
  },
  {
   "cell_type": "code",
   "execution_count": 5,
   "metadata": {},
   "outputs": [
    {
     "data": {
      "text/plain": [
       "{'Events;1': 'TTree'}"
      ]
     },
     "execution_count": 5,
     "metadata": {},
     "output_type": "execute_result"
    }
   ],
   "source": [
    "file.classnames()"
   ]
  },
  {
   "cell_type": "markdown",
   "metadata": {},
   "source": [
    "Trees, Branches, and Events"
   ]
  },
  {
   "cell_type": "markdown",
   "metadata": {},
   "source": [
    "Trees"
   ]
  },
  {
   "cell_type": "code",
   "execution_count": 29,
   "metadata": {},
   "outputs": [
    {
     "name": "stdout",
     "output_type": "stream",
     "text": [
      "<TTree 'Events' (6 branches) at 0x0233fff96ae0>\n"
     ]
    },
    {
     "data": {
      "text/plain": [
       "['nMuon', 'Muon_pt', 'Muon_eta', 'Muon_phi', 'Muon_mass', 'Muon_charge']"
      ]
     },
     "execution_count": 29,
     "metadata": {},
     "output_type": "execute_result"
    }
   ],
   "source": [
    "tree = file[\"Events\"]\n",
    "print(tree)\n",
    "tree.keys()"
   ]
  },
  {
   "cell_type": "code",
   "execution_count": 12,
   "metadata": {},
   "outputs": [
    {
     "data": {
      "text/html": [
       "<pre>[{nMuon: 2, Muon_pt: [10.8, 15.7], Muon_eta: [1.07, ...], Muon_phi: [...], ...},\n",
       " {nMuon: 2, Muon_pt: [10.5, 16.3], Muon_eta: [-0.428, ...], Muon_phi: ..., ...},\n",
       " {nMuon: 1, Muon_pt: [3.28], Muon_eta: [2.21], Muon_phi: [-1.22], ...},\n",
       " {nMuon: 4, Muon_pt: [11.4, 17.6, ..., 3.5], Muon_eta: [...], ...},\n",
       " {nMuon: 4, Muon_pt: [3.28, 3.64, ..., 23.7], Muon_eta: [...], ...},\n",
       " {nMuon: 3, Muon_pt: [3.57, 4.57, 4.37], Muon_eta: [...], Muon_phi: [...], ...},\n",
       " {nMuon: 2, Muon_pt: [57.6, 53], Muon_eta: [-0.532, ...], Muon_phi: [...], ...},\n",
       " {nMuon: 2, Muon_pt: [11.3, 23.9], Muon_eta: [-0.772, ...], Muon_phi: ..., ...},\n",
       " {nMuon: 2, Muon_pt: [10.2, 14.2], Muon_eta: [0.442, ...], Muon_phi: ..., ...},\n",
       " {nMuon: 2, Muon_pt: [11.5, 3.47], Muon_eta: [2.34, ...], Muon_phi: [...], ...},\n",
       " ...,\n",
       " {nMuon: 3, Muon_pt: [17.3, 4.57, 5.96], Muon_eta: [...], Muon_phi: [...], ...},\n",
       " {nMuon: 2, Muon_pt: [9.58, 3.33], Muon_eta: [-1.51, ...], Muon_phi: ..., ...},\n",
       " {nMuon: 1, Muon_pt: [9.48], Muon_eta: [1.12], Muon_phi: [0.85], ...},\n",
       " {nMuon: 0, Muon_pt: [], Muon_eta: [], Muon_phi: [], Muon_mass: [], ...},\n",
       " {nMuon: 3, Muon_pt: [30.3, 9.89, 6.69], Muon_eta: [...], Muon_phi: [...], ...},\n",
       " {nMuon: 2, Muon_pt: [46.4, 43.9], Muon_eta: [-1.93, ...], Muon_phi: ..., ...},\n",
       " {nMuon: 3, Muon_pt: [6.34, 6.98, 5.09], Muon_eta: [...], Muon_phi: [...], ...},\n",
       " {nMuon: 2, Muon_pt: [3.31, 15.7], Muon_eta: [1.64, ...], Muon_phi: [...], ...},\n",
       " {nMuon: 3, Muon_pt: [11.4, 3.08, 4.97], Muon_eta: [...], Muon_phi: [...], ...}]\n",
       "--------------------------------------------------------------------------------\n",
       "type: 100000 * {\n",
       "    nMuon: uint32,\n",
       "    Muon_pt: var * float32,\n",
       "    Muon_eta: var * float32,\n",
       "    Muon_phi: var * float32,\n",
       "    Muon_mass: var * float32,\n",
       "    Muon_charge: var * int32\n",
       "}</pre>"
      ],
      "text/plain": [
       "<Array [{nMuon: 2, Muon_pt: [...], ...}, ...] type='100000 * {nMuon: uint32...'>"
      ]
     },
     "execution_count": 12,
     "metadata": {},
     "output_type": "execute_result"
    }
   ],
   "source": [
    "tree.arrays()"
   ]
  },
  {
   "cell_type": "markdown",
   "metadata": {},
   "source": [
    "Branches"
   ]
  },
  {
   "cell_type": "code",
   "execution_count": 14,
   "metadata": {},
   "outputs": [
    {
     "data": {
      "text/html": [
       "<pre>[2,\n",
       " 2,\n",
       " 1,\n",
       " 4,\n",
       " 4,\n",
       " 3,\n",
       " 2,\n",
       " 2,\n",
       " 2,\n",
       " 2,\n",
       " ...,\n",
       " 3,\n",
       " 2,\n",
       " 1,\n",
       " 0,\n",
       " 3,\n",
       " 2,\n",
       " 3,\n",
       " 2,\n",
       " 3]\n",
       "---------------------\n",
       "type: 100000 * uint32</pre>"
      ],
      "text/plain": [
       "<Array [2, 2, 1, 4, 4, 3, 2, ..., 1, 0, 3, 2, 3, 2, 3] type='100000 * uint32'>"
      ]
     },
     "execution_count": 14,
     "metadata": {},
     "output_type": "execute_result"
    }
   ],
   "source": [
    "branches = tree.arrays()\n",
    "branches[\"nMuon\"]"
   ]
  },
  {
   "cell_type": "code",
   "execution_count": 15,
   "metadata": {},
   "outputs": [
    {
     "data": {
      "text/html": [
       "<pre>[[10.8, 15.7],\n",
       " [10.5, 16.3],\n",
       " [3.28],\n",
       " [11.4, 17.6, 9.62, 3.5],\n",
       " [3.28, 3.64, 32.9, 23.7],\n",
       " [3.57, 4.57, 4.37],\n",
       " [57.6, 53],\n",
       " [11.3, 23.9],\n",
       " [10.2, 14.2],\n",
       " [11.5, 3.47],\n",
       " ...,\n",
       " [17.3, 4.57, 5.96],\n",
       " [9.58, 3.33],\n",
       " [9.48],\n",
       " [],\n",
       " [30.3, 9.89, 6.69],\n",
       " [46.4, 43.9],\n",
       " [6.34, 6.98, 5.09],\n",
       " [3.31, 15.7],\n",
       " [11.4, 3.08, 4.97]]\n",
       "----------------------------\n",
       "type: 100000 * var * float32</pre>"
      ],
      "text/plain": [
       "<Array [[10.8, 15.7], ..., [11.4, ..., 4.97]] type='100000 * var * float32'>"
      ]
     },
     "execution_count": 15,
     "metadata": {},
     "output_type": "execute_result"
    }
   ],
   "source": [
    "branches[\"Muon_pt\"]"
   ]
  },
  {
   "cell_type": "markdown",
   "metadata": {},
   "source": [
    "Events"
   ]
  },
  {
   "cell_type": "code",
   "execution_count": 16,
   "metadata": {},
   "outputs": [
    {
     "data": {
      "text/html": [
       "<pre>[10.8,\n",
       " 15.7]\n",
       "-----------------\n",
       "type: 2 * float32</pre>"
      ],
      "text/plain": [
       "<Array [10.8, 15.7] type='2 * float32'>"
      ]
     },
     "execution_count": 16,
     "metadata": {},
     "output_type": "execute_result"
    }
   ],
   "source": [
    "branches[\"Muon_pt\"][0]"
   ]
  },
  {
   "cell_type": "markdown",
   "metadata": {},
   "source": [
    "Exercise"
   ]
  },
  {
   "cell_type": "code",
   "execution_count": 18,
   "metadata": {},
   "outputs": [
    {
     "data": {
      "text/html": [
       "<pre>[[10.8, 15.7],\n",
       " [10.5, 16.3],\n",
       " [3.28],\n",
       " [11.4, 17.6, 9.62, 3.5],\n",
       " [3.28, 3.64, 32.9, 23.7],\n",
       " [3.57, 4.57, 4.37],\n",
       " [57.6, 53],\n",
       " [11.3, 23.9],\n",
       " [10.2, 14.2],\n",
       " [11.5, 3.47]]\n",
       "--------------------------\n",
       "type: 10 * var * float32</pre>"
      ],
      "text/plain": [
       "<Array [[10.8, 15.7], [10.5, ...], ..., [11.5, 3.47]] type='10 * var * float32'>"
      ]
     },
     "execution_count": 18,
     "metadata": {},
     "output_type": "execute_result"
    }
   ],
   "source": [
    "branches[\"Muon_pt\"][:10]"
   ]
  },
  {
   "cell_type": "code",
   "execution_count": 20,
   "metadata": {},
   "outputs": [
    {
     "data": {
      "text/plain": [
       "{'nMuon': 2,\n",
       " 'Muon_pt': [10.763696670532227, 15.736522674560547],\n",
       " 'Muon_eta': [1.0668272972106934, -0.563786506652832],\n",
       " 'Muon_phi': [-0.03427272289991379, 2.5426154136657715],\n",
       " 'Muon_mass': [0.10565836727619171, 0.10565836727619171],\n",
       " 'Muon_charge': [-1, -1]}"
      ]
     },
     "execution_count": 20,
     "metadata": {},
     "output_type": "execute_result"
    }
   ],
   "source": [
    "branches[0]"
   ]
  },
  {
   "cell_type": "code",
   "execution_count": 24,
   "metadata": {},
   "outputs": [
    {
     "data": {
      "text/plain": [
       "{'nMuon': 2,\n",
       " 'Muon_pt': [10.763696670532227, 15.736522674560547],\n",
       " 'Muon_eta': [1.0668272972106934, -0.563786506652832],\n",
       " 'Muon_phi': [-0.03427272289991379, 2.5426154136657715],\n",
       " 'Muon_mass': [0.10565836727619171, 0.10565836727619171],\n",
       " 'Muon_charge': [-1, -1]}"
      ]
     },
     "execution_count": 24,
     "metadata": {},
     "output_type": "execute_result"
    }
   ],
   "source": [
    "branches[0].tolist()"
   ]
  },
  {
   "cell_type": "markdown",
   "metadata": {},
   "source": [
    "Histograms"
   ]
  },
  {
   "cell_type": "markdown",
   "metadata": {},
   "source": [
    "Histogramming basics"
   ]
  },
  {
   "cell_type": "code",
   "execution_count": 27,
   "metadata": {},
   "outputs": [
    {
     "data": {
      "text/plain": [
       "(array([8.7359e+04, 1.2253e+04, 3.5600e+02, 2.8000e+01, 2.0000e+00,\n",
       "        1.0000e+00, 0.0000e+00, 0.0000e+00, 0.0000e+00, 1.0000e+00]),\n",
       " array([ 0. ,  3.9,  7.8, 11.7, 15.6, 19.5, 23.4, 27.3, 31.2, 35.1, 39. ]),\n",
       " <BarContainer object of 10 artists>)"
      ]
     },
     "execution_count": 27,
     "metadata": {},
     "output_type": "execute_result"
    },
    {
     "data": {
      "image/png": "[encoded data removed]",
      "text/plain": [
       "<Figure size 640x480 with 1 Axes>"
      ]
     },
     "metadata": {},
     "output_type": "display_data"
    }
   ],
   "source": [
    "import matplotlib.pyplot as plt\n",
    "plt.hist(branches[\"nMuon\"])"
   ]
  }
 ],
 "metadata": {
  "kernelspec": {
   "display_name": "Python 3",
   "language": "python",
   "name": "python3"
  },
  "language_info": {
   "codemirror_mode": {
    "name": "ipython",
    "version": 3
   },
   "file_extension": ".py",
   "mimetype": "text/x-python",
   "name": "python",
   "nbconvert_exporter": "python",
   "pygments_lexer": "ipython3",
   "version": "3.12.0"
  }
 },
 "nbformat": 4,
 "nbformat_minor": 2
}
