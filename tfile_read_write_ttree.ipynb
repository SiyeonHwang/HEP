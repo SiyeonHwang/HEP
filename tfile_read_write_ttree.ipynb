{
 "cells": [
  {
   "cell_type": "markdown",
   "metadata": {},
   "source": [
    "The ROOT file"
   ]
  },
  {
   "cell_type": "code",
   "execution_count": 30,
   "metadata": {},
   "outputs": [],
   "source": [
    "import ROOT\n",
    "f = ROOT.TFile(\"my_file.root\", \"RECREATE\")\n",
    "\n",
    "h = ROOT.TH1F(\"my_histo\", \"Example histogram\", 100, -4, 4)\n",
    "f.WriteObject(h, h.GetName())\n",
    "\n",
    "f.Close()"
   ]
  },
  {
   "cell_type": "code",
   "execution_count": 15,
   "metadata": {},
   "outputs": [
    {
     "name": "stderr",
     "output_type": "stream",
     "text": [
      "Warning in <TFile::Append>: Replacing existing TH1: my_histo (Potential memory leak).\n"
     ]
    },
    {
     "data": {
      "image/png": "[encoded data removed]",
      "text/plain": [
       "<IPython.core.display.Image object>"
      ]
     },
     "metadata": {},
     "output_type": "display_data"
    }
   ],
   "source": [
    "h = ROOT.TH1F(\"my_histo\", \"Example histogram\", 100, -4, 4)\n",
    "\n",
    "c = ROOT.TCanvas()\n",
    "h.Draw()\n",
    "c.Draw()"
   ]
  },
  {
   "cell_type": "code",
   "execution_count": 44,
   "metadata": {},
   "outputs": [
    {
     "name": "stdout",
     "output_type": "stream",
     "text": [
      "-rw-r--r-- 1 siyeon siyeon 3587 Mar 15 02:43 my_file.root\n",
      "TH1F  Mar 15 02:43 2024 my_histo;1 \"Example histogram\" \n"
     ]
    }
   ],
   "source": [
    "%%bash\n",
    "ls -l my_file.root\n",
    "rootls -l my_file.root"
   ]
  },
  {
   "cell_type": "code",
   "execution_count": 45,
   "metadata": {},
   "outputs": [
    {
     "name": "stdout",
     "output_type": "stream",
     "text": [
      "Name: my_histo Title: Example histogram NbinsX: 100\n"
     ]
    }
   ],
   "source": [
    "f = ROOT.TFile(\"my_file.root\")\n",
    "\n",
    "h = f.Get(\"my_histo\")\n",
    "print(h)"
   ]
  },
  {
   "cell_type": "markdown",
   "metadata": {},
   "source": [
    "The HEP dataset"
   ]
  },
  {
   "cell_type": "code",
   "execution_count": 57,
   "metadata": {},
   "outputs": [
    {
     "name": "stdout",
     "output_type": "stream",
     "text": [
      "-rw-r--r-- 1 siyeon siyeon 89465 Mar 15 12:52 data/example_file.root\n"
     ]
    },
    {
     "name": "stdout",
     "output_type": "stream",
     "text": [
      "TTree  Aug 25 14:32 2021 dataset;1 \"dataset\" \n"
     ]
    }
   ],
   "source": [
    "%%bash\n",
    "ls -l data/example_file.root\n",
    "rootls -l data/example_file.root"
   ]
  },
  {
   "cell_type": "code",
   "execution_count": 58,
   "metadata": {},
   "outputs": [
    {
     "name": "stdout",
     "output_type": "stream",
     "text": [
      "Name: dataset Title: dataset\n"
     ]
    }
   ],
   "source": [
    "f = ROOT.TFile(\"data/example_file.root\")\n",
    "\n",
    "h = f.Get(\"dataset\")\n",
    "print(h)"
   ]
  }
 ],
 "metadata": {
  "kernelspec": {
   "display_name": "Python 3",
   "language": "python",
   "name": "python3"
  },
  "language_info": {
   "codemirror_mode": {
    "name": "ipython",
    "version": 3
   },
   "file_extension": ".py",
   "mimetype": "text/x-python",
   "name": "python",
   "nbconvert_exporter": "python",
   "pygments_lexer": "ipython3",
   "version": "3.10.12"
  }
 },
 "nbformat": 4,
 "nbformat_minor": 2
}
