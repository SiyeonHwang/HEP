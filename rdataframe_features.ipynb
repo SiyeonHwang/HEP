{
 "cells": [
  {
   "cell_type": "markdown",
   "metadata": {},
   "source": [
    "Save dataset to ROOT file after processing"
   ]
  },
  {
   "cell_type": "code",
   "execution_count": 70,
   "metadata": {},
   "outputs": [],
   "source": [
    "import ROOT\n",
    "\n",
    "df = ROOT.RDataFrame(\"dataset\", \"data/example_file.root\")\n",
    "df1 = df.Define(\"c\", \"a + b\")\n",
    "\n",
    "out_treename = \"outtree\"\n",
    "out_filename = \"outtree.root\"\n",
    "out_columns = [\"a\", \"b\", \"c\"]\n",
    "snapdf = df1.Snapshot(out_treename, out_filename, out_columns)"
   ]
  },
  {
   "cell_type": "code",
   "execution_count": 71,
   "metadata": {},
   "outputs": [
    {
     "name": "stdout",
     "output_type": "stream",
     "text": [
      "TTree  Mar 16 20:31 2024 outtree;1 \"outtree\" \n",
      "  a  \"a/D\"  16071\n",
      "  b  \"b/D\"  16071\n",
      "  c  \"c/D\"  16071\n",
      "  Cluster INCLUSIVE ranges:\n",
      "   - # 0: [0, 1999]\n",
      "  The total number of clusters is 1\n"
     ]
    }
   ],
   "source": [
    "%%bash\n",
    "rootls -lt outtree.root"
   ]
  },
  {
   "cell_type": "code",
   "execution_count": 72,
   "metadata": {},
   "outputs": [
    {
     "name": "stdout",
     "output_type": "stream",
     "text": [
      "+-----+------------+------------+------------+\n",
      "| Row | a          | b          | c          | \n",
      "+-----+------------+------------+------------+\n",
      "| 0   | 0.97771140 | 0.99974175 | 1.9774531  | \n",
      "+-----+------------+------------+------------+\n",
      "| 1   | 2.2802012  | 0.48497361 | 2.7651748  | \n",
      "+-----+------------+------------+------------+\n",
      "| 2   | 0.56348245 | 0.39231399 | 0.95579645 | \n",
      "+-----+------------+------------+------------+\n",
      "| 3   | 3.0421559  | 0.33353925 | 3.3756951  | \n",
      "+-----+------------+------------+------------+\n",
      "| 4   | 28.574399  | 0.64812557 | 29.222524  | \n",
      "+-----+------------+------------+------------+\n"
     ]
    }
   ],
   "source": [
    "snapdf.Display().Print()"
   ]
  },
  {
   "cell_type": "markdown",
   "metadata": {},
   "source": [
    "Cutflow reports"
   ]
  },
  {
   "cell_type": "code",
   "execution_count": 73,
   "metadata": {},
   "outputs": [
    {
     "name": "stdout",
     "output_type": "stream",
     "text": [
      "Lepton eta cut: pass=4880       all=10000      -- eff=48.80 % cumulative eff=48.80 %\n",
      "Lepton phi cut: pass=7843       all=10000      -- eff=78.43 % cumulative eff=78.43 %\n"
     ]
    }
   ],
   "source": [
    "df = ROOT.RDataFrame(\"sig_tree\", \"Higgs_data.root\")\n",
    "\n",
    "filter1 = df.Filter(\"lepton_eta > 0\", \"Lepton eta cut\")\n",
    "filter2 = df.Filter(\"lepton_phi < 1\", \"Lepton phi cut\")\n",
    "\n",
    "rep = df.Report()\n",
    "rep.Print()"
   ]
  },
  {
   "cell_type": "markdown",
   "metadata": {},
   "source": [
    "Using C++ functions in Python"
   ]
  },
  {
   "cell_type": "code",
   "execution_count": 74,
   "metadata": {},
   "outputs": [],
   "source": [
    "%%cpp\n",
    "\n",
    "float asfloat(unsigned long long entrynumber) {\n",
    "    return entrynumber;\n",
    "}"
   ]
  },
  {
   "cell_type": "code",
   "execution_count": 75,
   "metadata": {},
   "outputs": [],
   "source": [
    "%%cpp\n",
    "\n",
    "float square(float val) {\n",
    "    return val * val;\n",
    "}"
   ]
  },
  {
   "cell_type": "code",
   "execution_count": 76,
   "metadata": {},
   "outputs": [
    {
     "data": {
      "image/png": "[encoded data removed]",
      "text/plain": [
       "<IPython.core.display.Image object>"
      ]
     },
     "metadata": {},
     "output_type": "display_data"
    }
   ],
   "source": [
    "df = ROOT.RDataFrame(100)\n",
    "\n",
    "df1 = df.Define(\"a\", \"asfloat(rdfentry_)\")\n",
    "df2 = df1.Define(\"b\", \"square(a)\")\n",
    "\n",
    "c = ROOT.TCanvas()\n",
    "graph = df2.Graph(\"a\", \"b\")\n",
    "graph.SetMarkerStyle(20)\n",
    "graph.SetMarkerSize(0.5)\n",
    "graph.SetMarkerColor(ROOT.kBlue)\n",
    "graph.SetTitle(\"My graph\")\n",
    "graph.Draw(\"AP\")\n",
    "c.Draw()"
   ]
  },
  {
   "cell_type": "markdown",
   "metadata": {},
   "source": [
    "Using all cores of your machine with multi-threaded RDataFrame"
   ]
  },
  {
   "cell_type": "code",
   "execution_count": 77,
   "metadata": {},
   "outputs": [
    {
     "name": "stdout",
     "output_type": "stream",
     "text": [
      "CPU times: user 8.29 s, sys: 447 ms, total: 8.73 s\n",
      "Wall time: 13.1 s\n"
     ]
    },
    {
     "data": {
      "text/plain": [
       "149322456.0"
      ]
     },
     "execution_count": 77,
     "metadata": {},
     "output_type": "execute_result"
    }
   ],
   "source": [
    "%%time\n",
    "\n",
    "treename = \"Events\"\n",
    "filename = \"root://eospublic.cern.ch//eos/opendata/cms/derived-data/AOD2NanoAODOutreachTool/Run2012BC_DoubleMuParked_Muons.root\"\n",
    "df = ROOT.RDataFrame(treename, filename)\n",
    "\n",
    "df.Sum(\"nMuon\").GetValue()"
   ]
  },
  {
   "cell_type": "code",
   "execution_count": 78,
   "metadata": {},
   "outputs": [
    {
     "name": "stdout",
     "output_type": "stream",
     "text": [
      "CPU times: user 12.6 s, sys: 941 ms, total: 13.5 s\n",
      "Wall time: 8.03 s\n"
     ]
    }
   ],
   "source": [
    "%%time\n",
    "\n",
    "ROOT.EnableImplicitMT()\n",
    "\n",
    "treename = \"Events\"\n",
    "filename = \"root://eospublic.cern.ch//eos/opendata/cms/derived-data/AOD2NanoAODOutreachTool/Run2012BC_DoubleMuParked_Muons.root\"\n",
    "df = ROOT.RDataFrame(treename, filename)\n",
    "\n",
    "df.Sum(\"nMuon\").GetValue()\n",
    "\n",
    "ROOT.DisableImplicitMT()"
   ]
  }
 ],
 "metadata": {
  "kernelspec": {
   "display_name": "Python 3",
   "language": "python",
   "name": "python3"
  },
  "language_info": {
   "codemirror_mode": {
    "name": "ipython",
    "version": 3
   },
   "file_extension": ".py",
   "mimetype": "text/x-python",
   "name": "python",
   "nbconvert_exporter": "python",
   "pygments_lexer": "ipython3",
   "version": "3.10.12"
  }
 },
 "nbformat": 4,
 "nbformat_minor": 2
}
